{
 "cells": [
  {
   "cell_type": "code",
   "execution_count": 1,
   "metadata": {},
   "outputs": [],
   "source": [
    "from PIL import Image\n",
    "import os\n",
    "from random import randrange\n",
    "import math\n",
    "import threading\n",
    "import time"
   ]
  },
  {
   "cell_type": "code",
   "execution_count": 2,
   "metadata": {},
   "outputs": [],
   "source": [
    "sliding_stride=1\n",
    "kernel_size=3\n",
    "layers=15\n",
    "kernel=[[[0]*3 for i in range(kernel_size)] for j in range(kernel_size)]\n",
    "for i in range(kernel_size):\n",
    "   for j in range(kernel_size):\n",
    "     for k in range(3):\n",
    "       kernel[i][j][k]=randrange(255)\n",
    "     kernel[i][j]=list(kernel[i][j])"
   ]
  },
  {
   "cell_type": "code",
   "execution_count": 3,
   "metadata": {},
   "outputs": [],
   "source": [
    "def convolution_loop(pixels,kernel,color,row,col):\n",
    "   val=0\n",
    "   for i in range(0,kernel_size,sliding_stride):\n",
    "     for j in range(0,kernel_size,sliding_stride):\n",
    "       val+=(kernel[i][j][color]*pixels[i+row][j+col][color])\n",
    "   return val"
   ]
  },
  {
   "cell_type": "code",
   "execution_count": 4,
   "metadata": {},
   "outputs": [],
   "source": [
    "pixel_tiling=[[[0]*3 for i in range(1000)] for j in range(1000)]"
   ]
  },
  {
   "cell_type": "code",
   "execution_count": 5,
   "metadata": {},
   "outputs": [],
   "source": [
    "def convolution_loop_tiling(start_row,start_col,pixels,height,width,tile_size):\n",
    "    #print(start_row,start_col,\"start\")\n",
    "    \n",
    "    pixel_new=[]\n",
    "    for i in range(start_row,start_row+tile_size-kernel_size,sliding_stride):\n",
    "        arr=[]\n",
    "        for j in range(start_col,start_col+tile_size-kernel_size,sliding_stride):\n",
    "            lis=[]\n",
    "            for color in range(3):\n",
    "              val=0\n",
    "              for k in range(0,kernel_size,sliding_stride):\n",
    "                #for l in range(0,kernel_size,sliding_stride):\n",
    "                #  val+=(kernel[k][l][color]*pixels[i+k][j+l][color])\n",
    "                val+=(kernel[k][0][color]*pixels[i+k][0+l][color])\n",
    "                val+=(kernel[k][1][color]*pixels[i+k][1+l][color])\n",
    "                val+=(kernel[k][2][color]*pixels[i+k][2+l][color])\n",
    "              lis.append(val/256)\n",
    "            lis=list(lis)\n",
    "            arr.append(lis)\n",
    "        pixel_new.append(arr)\n",
    "    #return pixel_new  \n",
    "    for i in range(len(pixel_new)):\n",
    "        for j in range(len(pixel_new[0])):\n",
    "            for k in range(3):\n",
    "                pixel_tiling[start_row+i][start_col+j][k]=pixel_new[i][j][k]\n",
    "    #pixel_tiling.append(pixel_new)\n",
    "    #print(start_row,start_col,\"end\")"
   ]
  },
  {
   "cell_type": "code",
   "execution_count": 6,
   "metadata": {},
   "outputs": [
    {
     "name": "stdout",
     "output_type": "stream",
     "text": [
      "/home/xilinx/jupyter_notebooks/train/image.jpg\n",
      "400 400\n"
     ]
    }
   ],
   "source": [
    "c=0\n",
    "start=time.time()\n",
    "for file in os.listdir(\"/home/xilinx/jupyter_notebooks/train\"):\n",
    "  path=os.path.join(\"/home/xilinx/jupyter_notebooks/train\",file)\n",
    "  print(path)\n",
    "  im = Image.open(path)\n",
    "  pixels = list(im.getdata())\n",
    "  width, height = im.size \n",
    "  pixels = [pixels[i * width:(i + 1) * width] for i in range(height)]\n",
    "  print(len(pixels),len(pixels[0]))\n",
    "  for l in range(layers):\n",
    "      pixel_tiling=[[[0]*3 for i in range(1000)] for j in range(1000)]\n",
    "      tile_size=9\n",
    "      tile_index=[]\n",
    "      for i in range(0,height,tile_size):\n",
    "        for j in range(0,width,tile_size):\n",
    "            tile_index.append([i,j])\n",
    "      tile_thread=[]\n",
    "      for i in tile_index:\n",
    "        if(height-i[0]>=tile_size and width-i[1]>=tile_size):\n",
    "            t = threading.Thread(target=convolution_loop_tiling, args=(i[0],i[1],pixels,height,width,tile_size))\n",
    "            t.start()\n",
    "\n",
    "      main_thread = threading.current_thread()\n",
    "      for t in threading.enumerate():\n",
    "        if t is main_thread:\n",
    "          continue\n",
    "          t.join()\n",
    "      arr=[]\n",
    "      for i in range(len(pixel_tiling)):\n",
    "            num=[]\n",
    "            for j in range(len(pixel_tiling[0])):\n",
    "                lis=[]\n",
    "                for k in range(3):\n",
    "                    if(pixel_tiling[i][j][k]!=0):\n",
    "                        lis.append(pixel_tiling[i][j][k])\n",
    "                if(len(lis)>0):\n",
    "                    num.append(lis)\n",
    "            if(len(num)>0):\n",
    "                arr.append(num)\n",
    "      height=len(arr)\n",
    "      width=0\n",
    "      if(len(arr)>0):\n",
    "        width=len(arr[0])\n",
    "      pixels=arr\n",
    "      #print(pixels)\n",
    "  c+=1\n",
    "  if(c==1):\n",
    "    break\n",
    "end=time.time()"
   ]
  },
  {
   "cell_type": "code",
   "execution_count": 8,
   "metadata": {},
   "outputs": [
    {
     "name": "stdout",
     "output_type": "stream",
     "text": [
      "341.55601477622986\n"
     ]
    }
   ],
   "source": [
    "print((end-start))"
   ]
  }
 ],
 "metadata": {
  "kernelspec": {
   "display_name": "Python 3 (ipykernel)",
   "language": "python",
   "name": "python3"
  },
  "language_info": {
   "codemirror_mode": {
    "name": "ipython",
    "version": 3
   },
   "file_extension": ".py",
   "mimetype": "text/x-python",
   "name": "python",
   "nbconvert_exporter": "python",
   "pygments_lexer": "ipython3",
   "version": "3.10.4"
  }
 },
 "nbformat": 4,
 "nbformat_minor": 2
}
