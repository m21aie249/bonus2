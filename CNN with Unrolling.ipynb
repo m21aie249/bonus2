{
 "cells": [
  {
   "cell_type": "code",
   "execution_count": 1,
   "metadata": {},
   "outputs": [],
   "source": [
    "from PIL import Image\n",
    "import os\n",
    "from random import randrange\n",
    "import math\n",
    "import threading\n",
    "import time"
   ]
  },
  {
   "cell_type": "code",
   "execution_count": 2,
   "metadata": {},
   "outputs": [],
   "source": [
    "sliding_stride=1\n",
    "kernel_size=3\n",
    "layers=5"
   ]
  },
  {
   "cell_type": "code",
   "execution_count": 3,
   "metadata": {},
   "outputs": [],
   "source": [
    "kernel=[[[0]*3 for i in range(kernel_size)] for j in range(kernel_size)]\n",
    "for i in range(kernel_size):\n",
    "   for j in range(kernel_size):\n",
    "     for k in range(3):\n",
    "       kernel[i][j][k]=randrange(255)\n",
    "     kernel[i][j]=list(kernel[i][j])"
   ]
  },
  {
   "cell_type": "code",
   "execution_count": 4,
   "metadata": {},
   "outputs": [],
   "source": [
    "def convolution_loop(pixels,kernel,color,row,col):\n",
    "   val=0\n",
    "   for i in range(0,kernel_size,sliding_stride):\n",
    "     for j in range(0,kernel_size,sliding_stride):\n",
    "       val+=(kernel[i][j][color]*pixels[i+row][j+col][color])\n",
    "   return val"
   ]
  },
  {
   "cell_type": "code",
   "execution_count": 5,
   "metadata": {},
   "outputs": [],
   "source": [
    "def convolution_loop_unroll(pixels,kernel,color,row,col):\n",
    "   val=0\n",
    "   for i in range(kernel_size):\n",
    "     #for j in range(0,kernel_size,sliding_stride):\n",
    "#      print(i,color,i+row,j+col,len(pixels),len(pixels[0]))\n",
    "     val+=(kernel[i][0][color]*pixels[i+row][0+col][color])\n",
    "     val+=(kernel[i][1][color]*pixels[i+row][1+col][color])\n",
    "     val+=(kernel[i][2][color]*pixels[i+row][2+col][color])\n",
    "   return val"
   ]
  },
  {
   "cell_type": "code",
   "execution_count": null,
   "metadata": {},
   "outputs": [],
   "source": []
  },
  {
   "cell_type": "code",
   "execution_count": 6,
   "metadata": {},
   "outputs": [
    {
     "name": "stdout",
     "output_type": "stream",
     "text": [
      "/home/xilinx/jupyter_notebooks/train/image.jpg\n",
      "400 400\n"
     ]
    }
   ],
   "source": [
    "c=0\n",
    "start=time.time()\n",
    "for file in os.listdir(\"/home/xilinx/jupyter_notebooks/train\"):\n",
    "  path=os.path.join(\"/home/xilinx/jupyter_notebooks/train\",file)\n",
    "  print(path)\n",
    "  im = Image.open(path)\n",
    "  pixels = list(im.getdata())\n",
    "  width, height = im.size \n",
    "  pixels = [pixels[i * width:(i + 1) * width] for i in range(height)]\n",
    "  print(len(pixels),len(pixels[0]))\n",
    "  for l in range(layers):\n",
    "      pixel_new=[]\n",
    "      for i in range(0,height-kernel_size,sliding_stride):\n",
    "          arr=[]\n",
    "          for j in range(0,width-kernel_size,sliding_stride):\n",
    "            lis=[]\n",
    "            for k in range(3):\n",
    "              val=convolution_loop_unroll(pixels,kernel,k,i,j)\n",
    "              #print(val)\n",
    "              lis.append(val)\n",
    "            lis=list(lis)\n",
    "            #print(lis)\n",
    "            arr.append(lis)\n",
    "          pixel_new.append(arr)\n",
    "      pixels=pixel_new\n",
    "      height=len(pixels)\n",
    "      width=len(pixels[0])\n",
    "  c+=1\n",
    "  if(c==1):\n",
    "    break\n",
    "end=time.time()"
   ]
  },
  {
   "cell_type": "code",
   "execution_count": 7,
   "metadata": {},
   "outputs": [
    {
     "name": "stdout",
     "output_type": "stream",
     "text": [
      "107.0650634765625\n"
     ]
    }
   ],
   "source": [
    "print((end-start))"
   ]
  }
 ],
 "metadata": {
  "kernelspec": {
   "display_name": "Python 3 (ipykernel)",
   "language": "python",
   "name": "python3"
  },
  "language_info": {
   "codemirror_mode": {
    "name": "ipython",
    "version": 3
   },
   "file_extension": ".py",
   "mimetype": "text/x-python",
   "name": "python",
   "nbconvert_exporter": "python",
   "pygments_lexer": "ipython3",
   "version": "3.10.4"
  }
 },
 "nbformat": 4,
 "nbformat_minor": 2
}
