{
 "cells": [
  {
   "cell_type": "markdown",
   "metadata": {
    "collapsed": true
   },
   "source": [
    "# Welcome to PYNQ\n",
    "\n",
    "## Getting Started\n",
    "\n",
    "To get started using PYNQ, try running the example notebooks in the folders described below. \n",
    "\n",
    "* **getting_started**: includes an introduction to using Jupyter notebook with PYNQ, the Python environment, and how to use some basic features of the curernt platform. \n",
    "\n",
    "* **common**: contains example notebooks on how to download an overlay, how to set the Zynq clocks, how to execute Linux shell commands, and how to use a USB devices.\n",
    "\n",
    "* **base**: contains example notebooks for the base overlay for the PYNQ-Z1. This include examples on using Pmod, Grove, and Arduino peripherals, and guides for setting up Wifi, using webcams, and using the HDMI on the board.\n",
    "\n",
    "* **logictools**: includes example notebooks related to the logictools overlay. \n",
    "\n",
    "If other overlays or packages are installed, other folders with example notebooks may also be available in this directory.  \n",
    "\n",
    "\n",
    "## Documentation\n",
    "\n",
    "Please see the latest <a href=\"http://pynq.readthedocs.io\">PYNQ Documentation on readthedocs</a>.  \n",
    "\n",
    "\n",
    "## Support\n",
    "\n",
    "For questions or support, go to the forum on the <a href=\"http://www.pynq.io\">PYNQ project webpage </a>.\n",
    "\n",
    "\n",
    "## Project webpage\n",
    "\n",
    "You can find details on the <a href=\"http://www.pynq.io\">PYNQ project webpage </a>.\n",
    "\n",
    "\n",
    "## GitHub\n",
    "\n",
    "The PYNQ Repository is hosted on github: <a href=\"https://github.com/Xilinx/PYNQ\">PYNQ GitHub Repository</a>."
   ]
  },
  {
   "cell_type": "code",
   "execution_count": 10,
   "metadata": {
    "collapsed": true
   },
   "outputs": [],
   "source": [
    "from PIL import Image\n",
    "import os\n",
    "from random import randrange\n",
    "import math\n",
    "import threading"
   ]
  },
  {
   "cell_type": "code",
   "execution_count": 11,
   "metadata": {},
   "outputs": [
    {
     "name": "stdout",
     "output_type": "stream",
     "text": [
      "hello\n"
     ]
    }
   ],
   "source": []
  },
  {
   "cell_type": "code",
   "execution_count": 12,
   "metadata": {
    "collapsed": true
   },
   "outputs": [],
   "source": [
    "sliding_stride=1\n",
    "kernel_size=3"
   ]
  },
  {
   "cell_type": "code",
   "execution_count": 13,
   "metadata": {
    "collapsed": true
   },
   "outputs": [],
   "source": [
    "def convolution_loop(pixels,kernel,color,row,col):\n",
    "   val=0\n",
    "   for i in range(0,kernel_size,sliding_stride):\n",
    "     for j in range(0,kernel_size,sliding_stride):\n",
    "       val+=(kernel[i][j][color]*pixels[i+row][j+col][color])\n",
    "   return val"
   ]
  },
  {
   "cell_type": "code",
   "execution_count": 14,
   "metadata": {
    "collapsed": true
   },
   "outputs": [],
   "source": [
    "def convolution_loop_unroll(pixels,kernel,color,row,col):\n",
    "   val=0\n",
    "   for i in range(kernel_size):\n",
    "     #for j in range(0,kernel_size,sliding_stride):\n",
    "     val+=(kernel[i][0][color]*pixels[i+row][0+col][color])\n",
    "     val+=(kernel[i][1][color]*pixels[i+row][1+col][color])\n",
    "     val+=(kernel[i][2][color]*pixels[i+row][2+col][color])\n",
    "   return val"
   ]
  },
  {
   "cell_type": "code",
   "execution_count": 15,
   "metadata": {
    "collapsed": true
   },
   "outputs": [],
   "source": [
    "kernel=[[[0]*3 for i in range(kernel_size)] for j in range(kernel_size)]\n",
    "for i in range(kernel_size):\n",
    "   for j in range(kernel_size):\n",
    "     for k in range(3):\n",
    "       kernel[i][j][k]=randrange(255)\n",
    "     kernel[i][j]=list(kernel[i][j])"
   ]
  },
  {
   "cell_type": "code",
   "execution_count": null,
   "metadata": {
    "collapsed": true
   },
   "outputs": [],
   "source": []
  },
  {
   "cell_type": "code",
   "execution_count": 16,
   "metadata": {
    "collapsed": true
   },
   "outputs": [],
   "source": [
    "pixel_tiling=[]"
   ]
  },
  {
   "cell_type": "code",
   "execution_count": null,
   "metadata": {
    "collapsed": true
   },
   "outputs": [],
   "source": [
    "def convolution_loop_unrolling_tiling(start_row,start_col,pixels,height,width,tile_size):\n",
    "    #print(start_row,start_col,\"start\")\n",
    "    pixel_new=[]\n",
    "    for i in range(start_row,start_row+tile_size-kernel_size,sliding_stride):\n",
    "        arr=[]\n",
    "        for j in range(start_col,start_col+tile_size-kernel_size,sliding_stride):\n",
    "            lis=[]\n",
    "            for color in range(3):\n",
    "              val=0\n",
    "              for k in range(0,kernel_size,sliding_stride):\n",
    "                val+=(kernel[k][0][color]*pixels[i+k][j+0][color])\n",
    "                val+=(kernel[k][1][color]*pixels[i+k][j+1][color])\n",
    "                val+=(kernel[k][2][color]*pixels[i+k][j+2][color])\n",
    "              lis.append(val)\n",
    "            lis=list(lis)\n",
    "            arr.append(lis)\n",
    "        pixel_new.append(arr)\n",
    "    #return pixel_new  \n",
    "    pixel_tiling.append(pixel_new)\n",
    "    #print(start_row,start_col,\"end\")"
   ]
  },
  {
   "cell_type": "code",
   "execution_count": null,
   "metadata": {},
   "outputs": [
    {
     "name": "stdout",
     "output_type": "stream",
     "text": [
      "499 376\n",
      "285 298\n",
      "374 500\n",
      "267 320\n",
      "255 291\n",
      "223 320\n",
      "463 500\n",
      "300 399\n",
      "500 400\n",
      "375 499\n",
      "374 500\n",
      "499 272\n",
      "499 489\n",
      "163 149\n",
      "499 333\n",
      "374 500\n",
      "414 500\n",
      "449 500\n",
      "396 499\n",
      "374 500\n",
      "258 448\n",
      "427 402\n",
      "280 300\n",
      "279 200\n",
      "499 461\n",
      "315 499\n",
      "410 431\n",
      "375 499\n",
      "375 499\n",
      "303 469\n",
      "381 500\n",
      "375 499\n",
      "499 471\n",
      "353 405\n",
      "499 499\n",
      "299 346\n",
      "374 500\n",
      "375 499\n",
      "333 499\n",
      "430 500\n",
      "260 339\n",
      "288 288\n",
      "374 500\n",
      "375 499\n",
      "328 499\n",
      "239 320\n",
      "240 319\n",
      "257 360\n",
      "223 499\n",
      "375 499\n",
      "303 400\n",
      "235 280\n",
      "364 500\n",
      "500 345\n",
      "375 499\n",
      "374 500\n",
      "144 175\n",
      "499 471\n"
     ]
    }
   ],
   "source": [
    "for file in os.listdir(\"/home/xilinx/jupyter_notebooks/train\"):\n",
    "  path=os.path.join(\"/home/xilinx/jupyter_notebooks/train\",file)\n",
    "  #print(path)\n",
    "  im = Image.open(path)\n",
    "  pixels = list(im.getdata())\n",
    "  width, height = im.size \n",
    "  pixels = [pixels[i * width:(i + 1) * width] for i in range(height)]\n",
    "  print(len(pixels),len(pixels[0]))\n",
    "  tile_size=9\n",
    "  tile_index=[]\n",
    "  for i in range(0,height,tile_size):\n",
    "    for j in range(0,width,tile_size):\n",
    "        tile_index.append([i,j])\n",
    "  tile_thread=[]\n",
    "  for i in tile_index:\n",
    "    if(height-i[0]>=tile_size and width-i[1]>=tile_size):\n",
    "        t = threading.Thread(target=convolution_loop_unrolling_tiling, args=(i[0],i[1],pixels,height,width,tile_size))\n",
    "        t.start()\n",
    "    \n",
    "  main_thread = threading.current_thread()\n",
    "  for t in threading.enumerate():\n",
    "    if t is main_thread:\n",
    "      continue\n",
    "      t.join()\n",
    "  \n",
    "  "
   ]
  },
  {
   "cell_type": "code",
   "execution_count": null,
   "metadata": {
    "collapsed": true
   },
   "outputs": [],
   "source": []
  },
  {
   "cell_type": "code",
   "execution_count": null,
   "metadata": {
    "collapsed": true
   },
   "outputs": [],
   "source": []
  },
  {
   "cell_type": "code",
   "execution_count": null,
   "metadata": {
    "collapsed": true
   },
   "outputs": [],
   "source": []
  }
 ],
 "metadata": {
  "kernelspec": {
   "display_name": "Python 3",
   "language": "python",
   "name": "python3"
  },
  "language_info": {
   "codemirror_mode": {
    "name": "ipython",
    "version": 3
   },
   "file_extension": ".py",
   "mimetype": "text/x-python",
   "name": "python",
   "nbconvert_exporter": "python",
   "pygments_lexer": "ipython3",
   "version": "3.6.0"
  }
 },
 "nbformat": 4,
 "nbformat_minor": 1
}
